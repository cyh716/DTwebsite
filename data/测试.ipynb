{
 "cells": [
  {
   "cell_type": "code",
   "id": "initial_id",
   "metadata": {
    "collapsed": true,
    "ExecuteTime": {
     "end_time": "2025-04-19T03:57:10.891366Z",
     "start_time": "2025-04-19T03:57:10.870898Z"
    }
   },
   "source": [
    " str=\"Answering Machine - 陶喆\"\n",
    " song_title = str.split(\" - \")[0].rstrip()"
   ],
   "outputs": [],
   "execution_count": 1
  },
  {
   "metadata": {
    "ExecuteTime": {
     "end_time": "2025-04-19T03:57:15.724416Z",
     "start_time": "2025-04-19T03:57:15.713986Z"
    }
   },
   "cell_type": "code",
   "source": "song_title",
   "id": "88014c728f7ed83e",
   "outputs": [
    {
     "data": {
      "text/plain": [
       "'Answering Machine'"
      ]
     },
     "execution_count": 2,
     "metadata": {},
     "output_type": "execute_result"
    }
   ],
   "execution_count": 2
  },
  {
   "metadata": {
    "ExecuteTime": {
     "end_time": "2025-04-19T04:08:41.945737Z",
     "start_time": "2025-04-19T04:08:41.933823Z"
    }
   },
   "cell_type": "code",
   "source": [
    "import re\n",
    "mapping={'m':'mp3'}\n",
    "line=\"1 4:05 m\"\n",
    "song_header = re.match(r'^(\\d+)\\s+(\\d+:\\d+)\\s+([a-zA-Z])$', line)\n",
    "mapping[song_header.group(3)]"
   ],
   "id": "9b47843ae64537c9",
   "outputs": [
    {
     "data": {
      "text/plain": [
       "'mp3'"
      ]
     },
     "execution_count": 10,
     "metadata": {},
     "output_type": "execute_result"
    }
   ],
   "execution_count": 10
  },
  {
   "metadata": {
    "ExecuteTime": {
     "end_time": "2025-04-19T04:53:16.121037Z",
     "start_time": "2025-04-19T04:53:16.116430Z"
    }
   },
   "cell_type": "code",
   "source": [
    "line='L-O-V-E - 陶晶莹 '\n",
    "song_title = line.split(\" - \")[0].strip() \n",
    "current_singer=line.split(\" - \")[1].strip()"
   ],
   "id": "23d49d6085c1a20d",
   "outputs": [],
   "execution_count": 14
  },
  {
   "metadata": {
    "ExecuteTime": {
     "end_time": "2025-04-19T04:53:18.273696Z",
     "start_time": "2025-04-19T04:53:18.267444Z"
    }
   },
   "cell_type": "code",
   "source": "current_singer",
   "id": "c8d3c144b095c677",
   "outputs": [
    {
     "data": {
      "text/plain": [
       "'陶晶莹'"
      ]
     },
     "execution_count": 15,
     "metadata": {},
     "output_type": "execute_result"
    }
   ],
   "execution_count": 15
  },
  {
   "metadata": {},
   "cell_type": "code",
   "outputs": [],
   "execution_count": null,
   "source": "",
   "id": "34a0cad10cdf7195"
  }
 ],
 "metadata": {
  "kernelspec": {
   "display_name": "Python 3",
   "language": "python",
   "name": "python3"
  },
  "language_info": {
   "codemirror_mode": {
    "name": "ipython",
    "version": 2
   },
   "file_extension": ".py",
   "mimetype": "text/x-python",
   "name": "python",
   "nbconvert_exporter": "python",
   "pygments_lexer": "ipython2",
   "version": "2.7.6"
  }
 },
 "nbformat": 4,
 "nbformat_minor": 5
}
